{
 "cells": [
  {
   "cell_type": "code",
   "execution_count": 12,
   "metadata": {
    "collapsed": false
   },
   "outputs": [
    {
     "name": "stdout",
     "output_type": "stream",
     "text": [
      "The autoreload extension is already loaded. To reload it, use:\n",
      "  %reload_ext autoreload\n"
     ]
    }
   ],
   "source": [
    "%load_ext autoreload\n",
    "%autoreload 2\n",
    "import sys\n",
    "sys.path.append('/Users/arimorcos/Github/getRedditDataset/')\n",
    "from celebReddit import countMisspellings, countWords\n",
    "import redditDB\n",
    "import redUserComment\n",
    "from textstat.textstat import textstat\n",
    "import statistics"
   ]
  },
  {
   "cell_type": "code",
   "execution_count": 22,
   "metadata": {
    "collapsed": false
   },
   "outputs": [],
   "source": [
    "\"\"\"\n",
    "Process previous to default \n",
    "\"\"\"\n",
    "\n",
    "# initialize database and get subreddits\n",
    "prevDefaultDB = redditDB.RedditDB('newDefaults_preDefault')\n",
    "subList = prevDefaultDB.getSubreddits()\n",
    "\n",
    "# count each in each subreddit\n",
    "wordCountPre = {}\n",
    "misSpellCountPre = {}\n",
    "fracMisspellPre = {}\n",
    "for sub in subList:\n",
    "    \n",
    "    # get comment text\n",
    "    subComments = prevDefaultDB.getSubredditCommentText(sub)\n",
    "    \n",
    "    # count words and misspellings\n",
    "    wordCountPre[sub] = countWords(subComments)\n",
    "    misSpellCountPre[sub] = countMisspellings(subComments)\n",
    "    fracMisspellPre[sub] = float(misSpellCountPre[sub])/wordCountPre[sub]"
   ]
  },
  {
   "cell_type": "code",
   "execution_count": 23,
   "metadata": {
    "collapsed": false
   },
   "outputs": [],
   "source": [
    "\"\"\"\n",
    "Process post default \n",
    "\"\"\"\n",
    "\n",
    "# initialize database and get subreddits\n",
    "postDefaultDB = redditDB.RedditDB('newDefaults_postDefault')\n",
    "subList = postDefaultDB.getSubreddits()\n",
    "\n",
    "# count each in each subreddit\n",
    "wordCountPost = {}\n",
    "misSpellCountPost = {}\n",
    "fracMisspellPost = {}\n",
    "for sub in subList:\n",
    "    \n",
    "    # get comment text\n",
    "    subComments = postDefaultDB.getSubredditCommentText(sub)\n",
    "    \n",
    "    # count words and misspellings\n",
    "    wordCountPost[sub] = countWords(subComments)\n",
    "    misSpellCountPost[sub] = countMisspellings(subComments)\n",
    "    fracMisspellPost[sub] = float(misSpellCountPost[sub])/wordCountPost[sub]"
   ]
  },
  {
   "cell_type": "code",
   "execution_count": 2,
   "metadata": {
    "collapsed": false
   },
   "outputs": [],
   "source": [
    "def getReadabilityStats(text):\n",
    "\n",
    "    # get scores\n",
    "    fleschGrade = textstat.flesch_kincaid_grade(text)\n",
    "    fleschScore = textstat.flesch_reading_ease(text)\n",
    "    coleman = textstat.coleman_liau_index(text)\n",
    "    ari = textstat.automated_readability_index(text)\n",
    "\n",
    "    # store\n",
    "    return {'fleschGrade': fleschGrade, 'fleschScore': fleschScore,\n",
    "           'coleman': coleman, 'ari': ari}"
   ]
  },
  {
   "cell_type": "code",
   "execution_count": 3,
   "metadata": {
    "collapsed": false
   },
   "outputs": [
    {
     "name": "stdout",
     "output_type": "stream",
     "text": [
      "Art\n",
      "askscience\n",
      "creepy\n",
      "dataisbeautiful\n",
      "DIY\n",
      "Documentaries\n",
      "Fitness\n",
      "food\n",
      "Futurology\n",
      "gadgets\n",
      "GetMotivated\n",
      "history\n",
      "InternetIsBeautiful\n",
      "Jokes\n",
      "LifeProTips\n",
      "listentothis\n",
      "mildlyinteresting\n",
      "nosleep\n",
      "nottheonion\n",
      "OldSchoolCool\n",
      "personalfinance\n",
      "philosophy\n",
      "photoshopbattles\n",
      "Showerthoughts\n",
      "space\n",
      "sports\n",
      "tifu\n",
      "TwoXChromosomes\n",
      "UpliftingNews\n",
      "WritingPrompts\n",
      "blog\n"
     ]
    }
   ],
   "source": [
    "\"\"\"\n",
    "Process previous to default for text statistics \n",
    "\"\"\"\n",
    "\n",
    "# initialize database and get subreddits\n",
    "prevDefaultDB = redditDB.RedditDB('newDefaults_preDefault')\n",
    "subList = prevDefaultDB.getSubreddits()\n",
    "\n",
    "# count each in each subreddit\n",
    "readScoresPre = {}\n",
    "for sub in subList:\n",
    "    \n",
    "    # get comment text\n",
    "    subComments = prevDefaultDB.getSubredditCommentText(sub)\n",
    "    \n",
    "    # get text stats \n",
    "    comments = \" \".join(subComments)\n",
    "    readScoresPre[sub] = getReadabilityStats(comments)\n",
    "    \n",
    "    print sub\n",
    "    "
   ]
  },
  {
   "cell_type": "code",
   "execution_count": 4,
   "metadata": {
    "collapsed": false
   },
   "outputs": [
    {
     "name": "stdout",
     "output_type": "stream",
     "text": [
      "Art\n",
      "askscience\n",
      "creepy\n",
      "dataisbeautiful\n",
      "DIY\n",
      "Documentaries\n",
      "Fitness\n",
      "food\n",
      "Futurology\n",
      "gadgets\n",
      "GetMotivated\n",
      "history\n",
      "InternetIsBeautiful\n",
      "Jokes\n",
      "LifeProTips\n",
      "listentothis\n",
      "mildlyinteresting\n",
      "nosleep\n",
      "nottheonion\n",
      "OldSchoolCool\n",
      "personalfinance\n",
      "philosophy\n",
      "photoshopbattles\n",
      "Showerthoughts\n",
      "space\n",
      "sports\n",
      "tifu\n",
      "TwoXChromosomes\n",
      "UpliftingNews\n",
      "WritingPrompts\n",
      "blog\n"
     ]
    }
   ],
   "source": [
    "\"\"\"\n",
    "Process post default \n",
    "\"\"\"\n",
    "\n",
    "# initialize database and get subreddits\n",
    "postDefaultDB = redditDB.RedditDB('newDefaults_postDefault')\n",
    "subList = postDefaultDB.getSubreddits()\n",
    "\n",
    "# count each in each subreddit\n",
    "readScoresPost = {}\n",
    "for sub in subList:\n",
    "    \n",
    "    # get comment text\n",
    "    subComments = postDefaultDB.getSubredditCommentText(sub)\n",
    "    \n",
    "    # get text stats \n",
    "    comments = \" \".join(subComments)\n",
    "    readScoresPost[sub] = getReadabilityStats(comments)\n",
    "    \n",
    "    print sub"
   ]
  },
  {
   "cell_type": "code",
   "execution_count": 6,
   "metadata": {
    "collapsed": false
   },
   "outputs": [
    {
     "name": "stdout",
     "output_type": "stream",
     "text": [
      "['7.2-->7.2', '9.1-->9.1', '7.2-->6.0', '8.8-->9.1', '6.4-->6.4', '8.8-->8.0', '5.6-->5.6', '6.0-->6.0', '8.4-->8.4', '7.6-->6.8', '6.4-->6.8', '8.7-->8.7', '7.2-->7.2', '5.6-->4.4', '6.4-->6.8', '15.4-->13.1', '6.8-->6.8', '4.8-->4.8', '6.4-->8.0', '6.4-->6.8', '6.8-->7.2', '8.7-->9.1', '20.6-->18.6', '6.4-->6.4', '8.4-->8.4', '6.4-->6.4', '4.8-->5.2', '7.2-->7.2', '7.2-->6.4', '4.8-->4.8', '7.2-->6.0']\n"
     ]
    }
   ],
   "source": [
    "print [str(readScoresPre[sub]['fleschGrade']) + '-->' + str(readScoresPost[sub]['fleschGrade']) for sub in subList]"
   ]
  },
  {
   "cell_type": "code",
   "execution_count": 53,
   "metadata": {
    "collapsed": false
   },
   "outputs": [
    {
     "name": "stdout",
     "output_type": "stream",
     "text": [
      "['Mean pre: 64.7996774194 --> Mean post: 66.6880645161']\n"
     ]
    },
    {
     "data": {
      "text/plain": [
       "(-0.34325952855960573, 0.73260307960633608)"
      ]
     },
     "execution_count": 53,
     "metadata": {},
     "output_type": "execute_result"
    }
   ],
   "source": [
    "fleschPre = [readScoresPre[sub]['fleschScore'] for sub in subList]\n",
    "fleschPost = [readScoresPost[sub]['fleschScore'] for sub in subList]\n",
    "print ['Mean pre: ' + str(statistics.mean(fleschPre)) + ' --> Mean post: ' + str(statistics.mean(fleschPost))]\n",
    "from scipy import stats as spStats\n",
    "spStats.ttest_ind(fleschPre, fleschPost)"
   ]
  },
  {
   "cell_type": "code",
   "execution_count": 49,
   "metadata": {
    "collapsed": false
   },
   "outputs": [
    {
     "data": {
      "text/plain": [
       "{'ari': 9.1, 'coleman': 11.3, 'fleschGrade': 7.2, 'fleschScore': 66.74}"
      ]
     },
     "execution_count": 49,
     "metadata": {},
     "output_type": "execute_result"
    }
   ],
   "source": [
    "readScoresPre['Art']"
   ]
  },
  {
   "cell_type": "code",
   "execution_count": 20,
   "metadata": {
    "collapsed": false
   },
   "outputs": [
    {
     "data": {
      "text/plain": [
       "{u'Art': 16249}"
      ]
     },
     "execution_count": 20,
     "metadata": {},
     "output_type": "execute_result"
    }
   ],
   "source": [
    "wordCountPre"
   ]
  },
  {
   "cell_type": "code",
   "execution_count": 24,
   "metadata": {
    "collapsed": false
   },
   "outputs": [
    {
     "name": "stdout",
     "output_type": "stream",
     "text": [
      "[u'Art  16249 --> 34914', u'askscience  308265 --> 425537', u'creepy  33629 --> 54419', u'dataisbeautiful  52821 --> 80220', u'DIY  103779 --> 162395', u'Documentaries  25712 --> 67538', u'Fitness  488732 --> 583715', u'food  59981 --> 95909', u'Futurology  138376 --> 223272', u'gadgets  20629 --> 76492', u'GetMotivated  36249 --> 71254', u'history  53435 --> 70717', u'InternetIsBeautiful  17744 --> 26205', u'Jokes  37457 --> 54874', u'LifeProTips  67614 --> 118430', u'listentothis  64782 --> 130759', u'mildlyinteresting  110571 --> 123197', u'nosleep  68448 --> 104943', u'nottheonion  70426 --> 84588', u'OldSchoolCool  20527 --> 52942', u'personalfinance  425975 --> 820857', u'philosophy  115963 --> 198325', u'photoshopbattles  34821 --> 53153', u'Showerthoughts  98465 --> 111597', u'space  75997 --> 79490', u'sports  47096 --> 55257', u'tifu  67434 --> 142732', u'TwoXChromosomes  288026 --> 774924', u'UpliftingNews  11413 --> 32498', u'WritingPrompts  624512 --> 1670233', u'blog  1144 --> 770']\n"
     ]
    }
   ],
   "source": [
    "print [sub + '  ' + str(wordCountPre[sub]) + ' --> ' + str(wordCountPost[sub]) for sub in subList]"
   ]
  },
  {
   "cell_type": "code",
   "execution_count": 25,
   "metadata": {
    "collapsed": false
   },
   "outputs": [
    {
     "name": "stdout",
     "output_type": "stream",
     "text": [
      "[u'Art  0.177857098898 --> 0.172939222089', u'askscience  0.150831265307 --> 0.15250377758', u'creepy  0.179487941955 --> 0.176923500983', u'dataisbeautiful  0.188958936787 --> 0.174569932685', u'DIY  0.150849401131 --> 0.145583299978', u'Documentaries  0.180732731798 --> 0.155941840149', u'Fitness  0.160453991144 --> 0.156658643345', u'food  0.179890298595 --> 0.173946136442', u'Futurology  0.14798809042 --> 0.143838009244', u'gadgets  0.164913471327 --> 0.159912147676', u'GetMotivated  0.167039090734 --> 0.157759564375', u'history  0.15884719753 --> 0.147955937045', u'InternetIsBeautiful  0.201589269612 --> 0.204579278764', u'Jokes  0.190725365085 --> 0.188085432081', u'LifeProTips  0.157526547756 --> 0.154572321202', u'listentothis  0.392269457565 --> 0.341307290512', u'mildlyinteresting  0.199564080998 --> 0.193584259357', u'nosleep  0.160954301075 --> 0.148947523894', u'nottheonion  0.156064521626 --> 0.15730363645', u'OldSchoolCool  0.215082574171 --> 0.199652449851', u'personalfinance  0.149389048653 --> 0.146682065207', u'philosophy  0.148029975078 --> 0.146159082314', u'photoshopbattles  0.38956376899 --> 0.367204108893', u'Showerthoughts  0.168577667191 --> 0.167334247336', u'space  0.148637446215 --> 0.147251226569', u'sports  0.162455410226 --> 0.16148180321', u'tifu  0.15898508171 --> 0.158787097497', u'TwoXChromosomes  0.140476901391 --> 0.137712859584', u'UpliftingNews  0.173135897661 --> 0.157332758939', u'WritingPrompts  0.177082265833 --> 0.178906176563', u'blog  0.203671328671 --> 0.272727272727']\n"
     ]
    }
   ],
   "source": [
    "print [sub + '  ' + str(fracMisspellPre[sub]) + ' --> ' + str(fracMisspellPost[sub]) for sub in subList]"
   ]
  },
  {
   "cell_type": "code",
   "execution_count": 26,
   "metadata": {
    "collapsed": false
   },
   "outputs": [
    {
     "data": {
      "text/plain": [
       "0.18392356210108524"
      ]
     },
     "execution_count": 26,
     "metadata": {},
     "output_type": "execute_result"
    }
   ],
   "source": [
    "statistics.mean([fracMisspellPre[sub] for sub in subList])"
   ]
  },
  {
   "cell_type": "code",
   "execution_count": 27,
   "metadata": {
    "collapsed": false
   },
   "outputs": [
    {
     "data": {
      "text/plain": [
       "0.17897235169492368"
      ]
     },
     "execution_count": 27,
     "metadata": {},
     "output_type": "execute_result"
    }
   ],
   "source": [
    "statistics.mean([fracMisspellPost[sub] for sub in subList])"
   ]
  },
  {
   "cell_type": "code",
   "execution_count": 30,
   "metadata": {
    "collapsed": false
   },
   "outputs": [
    {
     "data": {
      "text/plain": [
       "(0.34807514480107871, 0.72900202386053103)"
      ]
     },
     "execution_count": 30,
     "metadata": {},
     "output_type": "execute_result"
    }
   ],
   "source": [
    "from scipy import stats as spStats\n",
    "pre = [fracMisspellPre[sub] for sub in subList]\n",
    "post = [fracMisspellPost[sub] for sub in subList]\n",
    "spStats.ttest_ind(pre,post)"
   ]
  },
  {
   "cell_type": "code",
   "execution_count": null,
   "metadata": {
    "collapsed": true
   },
   "outputs": [],
   "source": []
  }
 ],
 "metadata": {
  "kernelspec": {
   "display_name": "Python 2",
   "language": "python",
   "name": "python2"
  },
  "language_info": {
   "codemirror_mode": {
    "name": "ipython",
    "version": 2
   },
   "file_extension": ".py",
   "mimetype": "text/x-python",
   "name": "python",
   "nbconvert_exporter": "python",
   "pygments_lexer": "ipython2",
   "version": "2.7.8"
  }
 },
 "nbformat": 4,
 "nbformat_minor": 0
}
