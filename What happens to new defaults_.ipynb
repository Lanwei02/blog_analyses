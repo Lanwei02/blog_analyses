{
 "cells": [
  {
   "cell_type": "code",
   "execution_count": 34,
   "metadata": {
    "collapsed": false
   },
   "outputs": [
    {
     "name": "stdout",
     "output_type": "stream",
     "text": [
      "The autoreload extension is already loaded. To reload it, use:\n",
      "  %reload_ext autoreload\n"
     ]
    }
   ],
   "source": [
    "%load_ext autoreload\n",
    "%autoreload 2\n",
    "import sys\n",
    "sys.path.append('/Users/arimorcos/Github/getRedditDataset/')\n",
    "from celebReddit import countMisspellings, countWords\n",
    "import redditDB\n",
    "import redUserComment\n",
    "from textstat.textstat import textstat\n",
    "import statistics"
   ]
  },
  {
   "cell_type": "code",
   "execution_count": 55,
   "metadata": {
    "collapsed": false
   },
   "outputs": [],
   "source": [
    "\"\"\"\n",
    "Process previous to default \n",
    "\"\"\"\n",
    "\n",
    "# initialize database and get subreddits\n",
    "prevDefaultDB = redditDB.RedditDB('newDefaults_preDefault')\n",
    "subList = prevDefaultDB.getSubreddits()\n",
    "\n",
    "# count each in each subreddit\n",
    "wordCountPre = {}\n",
    "misSpellCountPre = {}\n",
    "fracMisspellPre = {}\n",
    "for sub in subList[0:1]:\n",
    "    \n",
    "    # get comment text\n",
    "    subComments = prevDefaultDB.getSubredditCommentText(sub)\n",
    "    \n",
    "    # count words and misspellings\n",
    "    wordCountPre[sub] = countWords(subComments)\n",
    "    misSpellCountPre[sub] = countMisspellings(subComments)\n",
    "    fracMisspellPre[sub] = float(misSpellCountPre[sub])/wordCountPre[sub]"
   ]
  },
  {
   "cell_type": "code",
   "execution_count": 56,
   "metadata": {
    "collapsed": false
   },
   "outputs": [],
   "source": [
    "\"\"\"\n",
    "Process post default \n",
    "\"\"\"\n",
    "\n",
    "# initialize database and get subreddits\n",
    "postDefaultDB = redditDB.RedditDB('newDefaults_postDefault')\n",
    "subList = postDefaultDB.getSubreddits()\n",
    "\n",
    "# count each in each subreddit\n",
    "wordCountPost = {}\n",
    "misSpellCountPost = {}\n",
    "fracMisspellPost = {}\n",
    "for sub in subList[0:1]:\n",
    "    \n",
    "    # get comment text\n",
    "    subComments = postDefaultDB.getSubredditCommentText(sub)\n",
    "    \n",
    "    # count words and misspellings\n",
    "    wordCountPost[sub] = countWords(subComments)\n",
    "    misSpellCountPost[sub] = countMisspellings(subComments)\n",
    "    fracMisspellPost[sub] = float(misSpellCountPost[sub])/wordCountPost[sub]"
   ]
  },
  {
   "cell_type": "code",
   "execution_count": 2,
   "metadata": {
    "collapsed": false
   },
   "outputs": [],
   "source": [
    "def getReadabilityStats(text):\n",
    "\n",
    "    # get scores\n",
    "    fleschGrade = textstat.flesch_kincaid_grade(text)\n",
    "    fleschScore = textstat.flesch_reading_ease(text)\n",
    "    coleman = textstat.coleman_liau_index(text)\n",
    "    ari = textstat.automated_readability_index(text)\n",
    "\n",
    "    # store\n",
    "    return {'fleschGrade': fleschGrade, 'fleschScore': fleschScore,\n",
    "           'coleman': coleman, 'ari': ari}"
   ]
  },
  {
   "cell_type": "code",
   "execution_count": 3,
   "metadata": {
    "collapsed": false
   },
   "outputs": [
    {
     "name": "stdout",
     "output_type": "stream",
     "text": [
      "Art\n",
      "askscience\n",
      "creepy\n",
      "dataisbeautiful\n",
      "DIY\n",
      "Documentaries\n",
      "Fitness\n",
      "food\n",
      "Futurology\n",
      "gadgets\n",
      "GetMotivated\n",
      "history\n",
      "InternetIsBeautiful\n",
      "Jokes\n",
      "LifeProTips\n",
      "listentothis\n",
      "mildlyinteresting\n",
      "nosleep\n",
      "nottheonion\n",
      "OldSchoolCool\n",
      "personalfinance\n",
      "philosophy\n",
      "photoshopbattles\n",
      "Showerthoughts\n",
      "space\n",
      "sports\n",
      "tifu\n",
      "TwoXChromosomes\n",
      "UpliftingNews\n",
      "WritingPrompts\n",
      "blog\n"
     ]
    }
   ],
   "source": [
    "\"\"\"\n",
    "Process previous to default for text statistics \n",
    "\"\"\"\n",
    "\n",
    "# initialize database and get subreddits\n",
    "prevDefaultDB = redditDB.RedditDB('newDefaults_preDefault')\n",
    "subList = prevDefaultDB.getSubreddits()\n",
    "\n",
    "# count each in each subreddit\n",
    "readScoresPre = {}\n",
    "for sub in subList:\n",
    "    \n",
    "    # get comment text\n",
    "    subComments = prevDefaultDB.getSubredditCommentText(sub)\n",
    "    \n",
    "    # get text stats \n",
    "    comments = \" \".join(subComments)\n",
    "    readScoresPre[sub] = getReadabilityStats(comments)\n",
    "    \n",
    "    print sub\n",
    "    "
   ]
  },
  {
   "cell_type": "code",
   "execution_count": 4,
   "metadata": {
    "collapsed": false
   },
   "outputs": [
    {
     "name": "stdout",
     "output_type": "stream",
     "text": [
      "Art\n",
      "askscience\n",
      "creepy\n",
      "dataisbeautiful\n",
      "DIY\n",
      "Documentaries\n",
      "Fitness\n",
      "food\n",
      "Futurology\n",
      "gadgets\n",
      "GetMotivated\n",
      "history\n",
      "InternetIsBeautiful\n",
      "Jokes\n",
      "LifeProTips\n",
      "listentothis\n",
      "mildlyinteresting\n",
      "nosleep\n",
      "nottheonion\n",
      "OldSchoolCool\n",
      "personalfinance\n",
      "philosophy\n",
      "photoshopbattles\n",
      "Showerthoughts\n",
      "space\n",
      "sports\n",
      "tifu\n",
      "TwoXChromosomes\n",
      "UpliftingNews\n",
      "WritingPrompts\n",
      "blog\n"
     ]
    }
   ],
   "source": [
    "\"\"\"\n",
    "Process post default \n",
    "\"\"\"\n",
    "\n",
    "# initialize database and get subreddits\n",
    "postDefaultDB = redditDB.RedditDB('newDefaults_postDefault')\n",
    "subList = postDefaultDB.getSubreddits()\n",
    "\n",
    "# count each in each subreddit\n",
    "readScoresPost = {}\n",
    "for sub in subList:\n",
    "    \n",
    "    # get comment text\n",
    "    subComments = postDefaultDB.getSubredditCommentText(sub)\n",
    "    \n",
    "    # get text stats \n",
    "    comments = \" \".join(subComments)\n",
    "    readScoresPost[sub] = getReadabilityStats(comments)\n",
    "    \n",
    "    print sub"
   ]
  },
  {
   "cell_type": "code",
   "execution_count": 6,
   "metadata": {
    "collapsed": false
   },
   "outputs": [
    {
     "name": "stdout",
     "output_type": "stream",
     "text": [
      "['7.2-->7.2', '9.1-->9.1', '7.2-->6.0', '8.8-->9.1', '6.4-->6.4', '8.8-->8.0', '5.6-->5.6', '6.0-->6.0', '8.4-->8.4', '7.6-->6.8', '6.4-->6.8', '8.7-->8.7', '7.2-->7.2', '5.6-->4.4', '6.4-->6.8', '15.4-->13.1', '6.8-->6.8', '4.8-->4.8', '6.4-->8.0', '6.4-->6.8', '6.8-->7.2', '8.7-->9.1', '20.6-->18.6', '6.4-->6.4', '8.4-->8.4', '6.4-->6.4', '4.8-->5.2', '7.2-->7.2', '7.2-->6.4', '4.8-->4.8', '7.2-->6.0']\n"
     ]
    }
   ],
   "source": [
    "print [str(readScoresPre[sub]['fleschGrade']) + '-->' + str(readScoresPost[sub]['fleschGrade']) for sub in subList]"
   ]
  },
  {
   "cell_type": "code",
   "execution_count": 53,
   "metadata": {
    "collapsed": false
   },
   "outputs": [
    {
     "name": "stdout",
     "output_type": "stream",
     "text": [
      "['Mean pre: 64.7996774194 --> Mean post: 66.6880645161']\n"
     ]
    },
    {
     "data": {
      "text/plain": [
       "(-0.34325952855960573, 0.73260307960633608)"
      ]
     },
     "execution_count": 53,
     "metadata": {},
     "output_type": "execute_result"
    }
   ],
   "source": [
    "fleschPre = [readScoresPre[sub]['fleschScore'] for sub in subList]\n",
    "fleschPost = [readScoresPost[sub]['fleschScore'] for sub in subList]\n",
    "print ['Mean pre: ' + str(statistics.mean(fleschPre)) + ' --> Mean post: ' + str(statistics.mean(fleschPost))]\n",
    "from scipy import stats as spStats\n",
    "spStats.ttest_ind(fleschPre, fleschPost)"
   ]
  },
  {
   "cell_type": "code",
   "execution_count": 49,
   "metadata": {
    "collapsed": false
   },
   "outputs": [
    {
     "data": {
      "text/plain": [
       "{'ari': 9.1, 'coleman': 11.3, 'fleschGrade': 7.2, 'fleschScore': 66.74}"
      ]
     },
     "execution_count": 49,
     "metadata": {},
     "output_type": "execute_result"
    }
   ],
   "source": [
    "readScoresPre['Art']"
   ]
  },
  {
   "cell_type": "code",
   "execution_count": 54,
   "metadata": {
    "collapsed": false
   },
   "outputs": [
    {
     "ename": "NameError",
     "evalue": "name 'wordCountPre' is not defined",
     "output_type": "error",
     "traceback": [
      "\u001b[0;31m---------------------------------------------------------------------------\u001b[0m",
      "\u001b[0;31mNameError\u001b[0m                                 Traceback (most recent call last)",
      "\u001b[0;32m<ipython-input-54-f9c32322c193>\u001b[0m in \u001b[0;36m<module>\u001b[0;34m()\u001b[0m\n\u001b[0;32m----> 1\u001b[0;31m \u001b[0mwordCountPre\u001b[0m\u001b[0;34m\u001b[0m\u001b[0m\n\u001b[0m",
      "\u001b[0;31mNameError\u001b[0m: name 'wordCountPre' is not defined"
     ]
    }
   ],
   "source": [
    "wordCountPre"
   ]
  },
  {
   "cell_type": "code",
   "execution_count": 59,
   "metadata": {
    "collapsed": false
   },
   "outputs": [
    {
     "name": "stdout",
     "output_type": "stream",
     "text": [
      "['16249 --> 34914']\n"
     ]
    }
   ],
   "source": [
    "print [str(wordCountPre['Art']) + ' --> ' + str(wordCountPost['Art'])]"
   ]
  },
  {
   "cell_type": "code",
   "execution_count": null,
   "metadata": {
    "collapsed": true
   },
   "outputs": [],
   "source": []
  }
 ],
 "metadata": {
  "kernelspec": {
   "display_name": "Python 2",
   "language": "python",
   "name": "python2"
  },
  "language_info": {
   "codemirror_mode": {
    "name": "ipython",
    "version": 2
   },
   "file_extension": ".py",
   "mimetype": "text/x-python",
   "name": "python",
   "nbconvert_exporter": "python",
   "pygments_lexer": "ipython2",
   "version": "2.7.9"
  }
 },
 "nbformat": 4,
 "nbformat_minor": 0
}
